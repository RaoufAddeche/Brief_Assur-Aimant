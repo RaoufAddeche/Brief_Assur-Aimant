{
 "cells": [
  {
   "cell_type": "code",
   "execution_count": 121,
   "metadata": {},
   "outputs": [
    {
     "name": "stdout",
     "output_type": "stream",
     "text": [
      "   Âge    Sexe     IMC  Enfants Fumeur     Région        Frais\n",
      "0   19  female  27.900        0    yes  southwest  16884.92400\n",
      "1   18    male  33.770        1     no  southeast   1725.55230\n",
      "2   28    male  33.000        3     no  southeast   4449.46200\n",
      "3   33    male  22.705        0     no  northwest  21984.47061\n",
      "4   32    male  28.880        0     no  northwest   3866.85520\n",
      "<class 'pandas.core.frame.DataFrame'>\n",
      "RangeIndex: 1328 entries, 0 to 1327\n",
      "Data columns (total 7 columns):\n",
      " #   Column   Non-Null Count  Dtype  \n",
      "---  ------   --------------  -----  \n",
      " 0   Âge      1328 non-null   int64  \n",
      " 1   Sexe     1328 non-null   object \n",
      " 2   IMC      1328 non-null   float64\n",
      " 3   Enfants  1328 non-null   int64  \n",
      " 4   Fumeur   1328 non-null   object \n",
      " 5   Région   1328 non-null   object \n",
      " 6   Frais    1328 non-null   float64\n",
      "dtypes: float64(2), int64(2), object(3)\n",
      "memory usage: 72.8+ KB\n",
      "None\n"
     ]
    }
   ],
   "source": [
    "import pandas as pd\n",
    "\n",
    "# Importation des données nettoyées\n",
    "donnees = pd.read_csv(\"data_nettoyer.csv\")\n",
    "\n",
    "# Aperçu des données\n",
    "print(donnees.head())\n",
    "print(donnees.info())\n",
    "\n"
   ]
  },
  {
   "cell_type": "code",
   "execution_count": 122,
   "metadata": {},
   "outputs": [
    {
     "name": "stdout",
     "output_type": "stream",
     "text": [
      "Dummy Model - R² : -0.0001034630945579984\n",
      "Dummy Model - RMSE : 11790.382185510607\n"
     ]
    }
   ],
   "source": [
    "from sklearn.dummy import DummyRegressor\n",
    "from sklearn.model_selection import train_test_split\n",
    "from sklearn.metrics import r2_score, root_mean_squared_error\n",
    "\n",
    "# Séparation des données\n",
    "X = donnees.drop(columns=['Frais'])\n",
    "y = donnees['Frais']\n",
    "\n",
    "# Encodage des variables catégoriques pour éviter les erreurs\n",
    "X = pd.get_dummies(X, drop_first=True)\n",
    "\n",
    "# Division en données d'entraînement et de test (80 % / 20 %)\n",
    "X_train, X_test, y_train, y_test = train_test_split(X, y, test_size=0.2, random_state=42)\n",
    "\n",
    "# Dummy model\n",
    "dummy_model = DummyRegressor(strategy=\"mean\")\n",
    "dummy_model.fit(X_train, y_train)\n",
    "\n",
    "# Prédictions et évaluation\n",
    "y_pred_dummy = dummy_model.predict(X_test)\n",
    "\n",
    "# Évaluation des performances\n",
    "r2 = r2_score(y_test, y_pred_dummy)\n",
    "rmse = root_mean_squared_error(y_test, y_pred_dummy)\n",
    "\n",
    "print(\"Dummy Model - R² :\", r2)\n",
    "print(\"Dummy Model - RMSE :\", rmse)\n"
   ]
  },
  {
   "cell_type": "code",
   "execution_count": 123,
   "metadata": {},
   "outputs": [],
   "source": [
    "import numpy as np\n",
    "\n",
    "# Transformation logarithmique pour y si nécessaire\n",
    "y = np.log1p(donnees['Frais'])  # log(1 + y) pour éviter les problèmes avec des zéros\n"
   ]
  },
  {
   "cell_type": "code",
   "execution_count": 124,
   "metadata": {},
   "outputs": [],
   "source": [
    "random_state = 42\n"
   ]
  },
  {
   "cell_type": "code",
   "execution_count": 125,
   "metadata": {},
   "outputs": [
    {
     "name": "stdout",
     "output_type": "stream",
     "text": [
      "Régression Linéaire - R² : 0.1579, RMSE : 10818.9214\n",
      "Lasso - R² : 0.1579, RMSE : 10818.9730\n",
      "Ridge - R² : 0.1579, RMSE : 10819.0599\n",
      "ElasticNet - R² : 0.1559, RMSE : 10832.0386\n",
      "\n",
      "Résumé des performances :\n",
      "                           R²          RMSE\n",
      "Régression Linéaire  0.157913  10818.921422\n",
      "Lasso                0.157905  10818.972987\n",
      "Ridge                0.157891  10819.059912\n",
      "ElasticNet           0.155870  10832.038600\n"
     ]
    }
   ],
   "source": [
    "# Évaluation des modèles\n",
    "from sklearn.metrics import root_mean_squared_error, r2_score\n",
    "\n",
    "resultats = {}\n",
    "\n",
    "for nom, pipeline in modeles.items():\n",
    "    # Entraînement\n",
    "    pipeline.fit(X_train, y_train)\n",
    "    \n",
    "    # Prédiction\n",
    "    y_pred = pipeline.predict(X_test)\n",
    "    \n",
    "    # Évaluation\n",
    "    r2 = r2_score(y_test, y_pred)\n",
    "    rmse = root_mean_squared_error(y_test, y_pred)\n",
    "    \n",
    "    # Stockage des résultats\n",
    "    resultats[nom] = {'R²': r2, 'RMSE': rmse}\n",
    "    \n",
    "    print(f\"{nom} - R² : {r2:.4f}, RMSE : {rmse:.4f}\")\n",
    "\n",
    "# Résultats dans un DataFrame pour comparaison\n",
    "resultats_df = pd.DataFrame(resultats).T\n",
    "print(\"\\nRésumé des performances :\")\n",
    "print(resultats_df)\n"
   ]
  },
  {
   "cell_type": "code",
   "execution_count": 126,
   "metadata": {},
   "outputs": [],
   "source": [
    "from sklearn.preprocessing import PolynomialFeatures\n",
    "\n",
    "# Ajout de PolynomialFeatures dans le pipeline (pour ElasticNet par exemple)\n",
    "polynomial_pipeline = Pipeline(steps=[\n",
    "    ('preprocessing', preprocesseur),\n",
    "    ('poly', PolynomialFeatures(degree=2, include_bias=False)),\n",
    "    ('model', ElasticNet(alpha=0.1, l1_ratio=0.5, random_state=random_state))\n",
    "])\n"
   ]
  },
  {
   "cell_type": "code",
   "execution_count": 127,
   "metadata": {},
   "outputs": [
    {
     "name": "stdout",
     "output_type": "stream",
     "text": [
      "Meilleurs paramètres : {'model__alpha': 0.1, 'model__l1_ratio': 0.5, 'poly__degree': 1}\n",
      "Meilleur RMSE : 11426.230022966405\n"
     ]
    }
   ],
   "source": [
    "from sklearn.model_selection import GridSearchCV\n",
    "\n",
    "# Paramètres à tester pour ElasticNet\n",
    "parametres = {\n",
    "    'poly__degree': [1, 2, 3],\n",
    "    'model__alpha': [0.01, 0.1, 1.0],\n",
    "    'model__l1_ratio': [0.2, 0.5, 0.8]\n",
    "}\n",
    "\n",
    "# GridSearchCV\n",
    "grid_search = GridSearchCV(polynomial_pipeline, parametres, cv=5, scoring='neg_mean_squared_error', n_jobs=-1)\n",
    "grid_search.fit(X_train, y_train)\n",
    "\n",
    "print(\"Meilleurs paramètres :\", grid_search.best_params_)\n",
    "print(\"Meilleur RMSE :\", np.sqrt(-grid_search.best_score_))\n"
   ]
  },
  {
   "cell_type": "code",
   "execution_count": 128,
   "metadata": {},
   "outputs": [
    {
     "name": "stdout",
     "output_type": "stream",
     "text": [
      "\n",
      "Variables les plus importantes :\n",
      "  Variable  Coefficient\n",
      "0      Âge  3102.034565\n",
      "1      IMC  1730.553726\n",
      "2  Enfants   768.498247\n"
     ]
    }
   ],
   "source": [
    "# Récupérer les coefficients pour ElasticNet\n",
    "meilleur_modele = grid_search.best_estimator_\n",
    "coefficients = meilleur_modele.named_steps['model'].coef_\n",
    "\n",
    "# Associer les coefficients aux noms des variables\n",
    "colonnes_finales = meilleur_modele.named_steps['preprocessing'].transformers_[0][1].get_feature_names_out()\n",
    "coeff_df = pd.DataFrame({'Variable': colonnes_finales, 'Coefficient': coefficients})\n",
    "\n",
    "print(\"\\nVariables les plus importantes :\")\n",
    "print(coeff_df.sort_values(by='Coefficient', ascending=False).head(10))\n"
   ]
  },
  {
   "cell_type": "code",
   "execution_count": 129,
   "metadata": {},
   "outputs": [
    {
     "name": "stdout",
     "output_type": "stream",
     "text": [
      "Meilleurs hyperparamètres : {'alpha': 0.1, 'l1_ratio': 0.9}\n",
      "Meilleur score R² : 0.7402415684619652\n"
     ]
    }
   ],
   "source": [
    "from sklearn.model_selection import GridSearchCV\n",
    "from sklearn.linear_model import ElasticNet\n",
    "\n",
    "# Définir les hyperparamètres à tester\n",
    "param_grid = {\n",
    "    'alpha': [0.1, 1.0, 10.0, 100.0],\n",
    "    'l1_ratio': [0.1, 0.5, 0.9]\n",
    "}\n",
    "\n",
    "# Initialiser le modèle\n",
    "elastic_net = ElasticNet(max_iter=10000)\n",
    "\n",
    "# Initialiser la recherche sur grille\n",
    "grid_search = GridSearchCV(estimator=elastic_net, param_grid=param_grid, cv=5, scoring='r2', n_jobs=-1)\n",
    "\n",
    "# Entraîner la recherche sur les données d'entraînement\n",
    "grid_search.fit(X_train, y_train)\n",
    "\n",
    "# Meilleurs hyperparamètres\n",
    "print(\"Meilleurs hyperparamètres :\", grid_search.best_params_)\n",
    "\n",
    "# Meilleur score\n",
    "print(\"Meilleur score R² :\", grid_search.best_score_)\n"
   ]
  }
 ],
 "metadata": {
  "kernelspec": {
   "display_name": ".venv",
   "language": "python",
   "name": "python3"
  },
  "language_info": {
   "codemirror_mode": {
    "name": "ipython",
    "version": 3
   },
   "file_extension": ".py",
   "mimetype": "text/x-python",
   "name": "python",
   "nbconvert_exporter": "python",
   "pygments_lexer": "ipython3",
   "version": "3.12.3"
  }
 },
 "nbformat": 4,
 "nbformat_minor": 2
}
