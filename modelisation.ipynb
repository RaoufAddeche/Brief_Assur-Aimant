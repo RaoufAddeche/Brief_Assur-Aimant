{
 "cells": [
  {
   "cell_type": "code",
   "execution_count": 1,
   "metadata": {},
   "outputs": [],
   "source": [
    "import pandas as pd\n",
    "from sklearn.model_selection import train_test_split, GridSearchCV\n",
    "from sklearn.linear_model import LinearRegression, Lasso, Ridge, ElasticNet\n",
    "from sklearn.pipeline import Pipeline\n",
    "from sklearn.compose import ColumnTransformer\n",
    "from sklearn.preprocessing import StandardScaler, PolynomialFeatures, OneHotEncoder\n",
    "from sklearn.metrics import r2_score, root_mean_squared_error\n",
    "\n",
    "# Importation des données nettoyées\n",
    "donnees = pd.read_csv(\"data_nettoyer.csv\")\n"
   ]
  },
  {
   "cell_type": "code",
   "execution_count": 2,
   "metadata": {},
   "outputs": [],
   "source": [
    "# Séparation des variables explicatives et de la cible\n",
    "X = donnees.drop(columns=['Frais'])\n",
    "y = donnees['Frais']\n",
    "\n",
    "# Séparation des colonnes numériques et catégoriques\n",
    "colonnes_numeriques = ['Âge', 'IMC', 'Enfants']\n",
    "colonnes_categoriques = ['Sexe', 'Fumeur', 'Région']\n"
   ]
  },
  {
   "cell_type": "code",
   "execution_count": 3,
   "metadata": {},
   "outputs": [],
   "source": [
    "# Définition du ColumnTransformer\n",
    "pretraitement = ColumnTransformer(\n",
    "    transformers=[\n",
    "        (\"numérique\", StandardScaler(), colonnes_numeriques),\n",
    "        (\"catégorique\", OneHotEncoder(drop=\"first\"), colonnes_categoriques)\n",
    "    ],\n",
    "    remainder=\"passthrough\" # laisser intactes les colonnes non spécifiées\n",
    ")\n"
   ]
  },
  {
   "cell_type": "code",
   "execution_count": 4,
   "metadata": {},
   "outputs": [],
   "source": [
    "\n",
    "# Définition des modèles avec Pipeline\n",
    "modeles = {\n",
    "    \"Régression Linéaire\": Pipeline([\n",
    "        (\"pretraitement\", pretraitement),\n",
    "        (\"modèle\", LinearRegression())\n",
    "    ]),\n",
    "    \"Lasso\": Pipeline([\n",
    "        (\"pretraitement\", pretraitement),\n",
    "        (\"poly\", PolynomialFeatures(degree=2, include_bias=False)),\n",
    "        (\"re-scaler\", StandardScaler()),\n",
    "        (\"modèle\", Lasso(random_state=42))\n",
    "    ]),\n",
    "    \"Ridge\": Pipeline([\n",
    "        (\"pretraitement\", pretraitement),\n",
    "        (\"modèle\", Ridge(random_state=42))\n",
    "    ]),\n",
    "    \"ElasticNet\": Pipeline([\n",
    "        (\"pretraitement\", pretraitement),\n",
    "        (\"modèle\", ElasticNet(random_state=42))\n",
    "    ])\n",
    "}"
   ]
  },
  {
   "cell_type": "code",
   "execution_count": 5,
   "metadata": {},
   "outputs": [],
   "source": [
    "# Division en données d'entraînement et de test (85% / 15%)\n",
    "X_train, X_test, y_train, y_test = train_test_split(\n",
    "    X, y, shuffle=True, train_size=0.85, random_state=42, stratify=X['Fumeur']\n",
    ")"
   ]
  },
  {
   "cell_type": "code",
   "execution_count": 6,
   "metadata": {},
   "outputs": [
    {
     "name": "stdout",
     "output_type": "stream",
     "text": [
      "Régression Linéaire - R² : 0.6816, RMSE : 6417.8223\n",
      "Lasso - R² : 0.7921, RMSE : 5186.0549\n",
      "Ridge - R² : 0.6819, RMSE : 6414.0960\n",
      "ElasticNet - R² : 0.3400, RMSE : 9239.4006\n"
     ]
    }
   ],
   "source": [
    "# Évaluation des modèles\n",
    "resultats = {}\n",
    "\n",
    "for nom, pipeline in modeles.items():\n",
    "    # Entraînement\n",
    "    pipeline.fit(X_train, y_train)\n",
    "\n",
    "    # Prédiction\n",
    "    y_pred = pipeline.predict(X_test)\n",
    "\n",
    "    # Évaluation\n",
    "    r2 = r2_score(y_test, y_pred)\n",
    "    rmse = root_mean_squared_error(y_test, y_pred)\n",
    "\n",
    "    # Stockage des résultats\n",
    "    resultats[nom] = {'R²': r2, 'RMSE': rmse}\n",
    "\n",
    "    print(f\"{nom} - R² : {r2:.4f}, RMSE : {rmse:.4f}\")\n"
   ]
  },
  {
   "cell_type": "code",
   "execution_count": 11,
   "metadata": {},
   "outputs": [
    {
     "data": {
      "text/plain": [
       "array([ 3.06826164e+03,  3.31367817e+02,  1.21244927e+03, -7.90282792e-02,\n",
       "        9.84827408e+03, -9.97133522e+01, -3.80021521e-02, -2.88718813e+02,\n",
       "        6.83942312e+02, -4.18788563e+01, -8.13638262e+01,  2.35773455e+02,\n",
       "       -2.15151583e+01,  4.63207396e+01,  3.80792315e+02,  2.20224945e+02,\n",
       "       -2.29257373e+02,  4.21387640e+01, -1.83572054e+01,  4.16859361e+03,\n",
       "       -5.16246935e+01, -3.74439609e+02, -8.78691633e+00, -5.14669353e+01,\n",
       "       -2.68385446e+02, -1.26225935e+02,  1.85680190e+02, -8.14446398e+01,\n",
       "       -2.39386451e+02, -4.73160264e+02,  1.27160338e+02,  1.82016708e+01,\n",
       "        3.62692803e+02,  9.27983528e+01,  0.00000000e+00, -1.19202260e+02,\n",
       "       -5.96707927e+02,  6.96222333e+01, -9.08913953e-01,  0.00000000e+00,\n",
       "        0.00000000e+00, -3.54433606e+02,  0.00000000e+00, -1.93690529e+02])"
      ]
     },
     "execution_count": 11,
     "metadata": {},
     "output_type": "execute_result"
    }
   ],
   "source": [
    "modeles[\"Lasso\"][-1].coef_"
   ]
  },
  {
   "cell_type": "code",
   "execution_count": 7,
   "metadata": {},
   "outputs": [
    {
     "name": "stdout",
     "output_type": "stream",
     "text": [
      "\n",
      "Résumé des performances :\n",
      "                           R²         RMSE\n",
      "Régression Linéaire  0.681567  6417.822302\n",
      "Lasso                0.792070  5186.054853\n",
      "Ridge                0.681936  6414.096003\n",
      "ElasticNet           0.340020  9239.400596\n"
     ]
    }
   ],
   "source": [
    "#Affichage des performances\n",
    "resultats_df = pd.DataFrame(resultats).T\n",
    "print(\"\\nRésumé des performances :\")\n",
    "print(resultats_df)"
   ]
  },
  {
   "cell_type": "code",
   "execution_count": 8,
   "metadata": {},
   "outputs": [
    {
     "name": "stderr",
     "output_type": "stream",
     "text": [
      "/home/addeche/Documents/Projet_Simplon/Brief_Assur-Aimant/.venv/lib/python3.12/site-packages/sklearn/linear_model/_coordinate_descent.py:695: ConvergenceWarning: Objective did not converge. You might want to increase the number of iterations, check the scale of the features or consider increasing regularisation. Duality gap: 3.623e+07, tolerance: 1.315e+07\n",
      "  model = cd_fast.enet_coordinate_descent(\n",
      "/home/addeche/Documents/Projet_Simplon/Brief_Assur-Aimant/.venv/lib/python3.12/site-packages/sklearn/linear_model/_coordinate_descent.py:695: ConvergenceWarning: Objective did not converge. You might want to increase the number of iterations, check the scale of the features or consider increasing regularisation. Duality gap: 6.888e+07, tolerance: 1.329e+07\n",
      "  model = cd_fast.enet_coordinate_descent(\n",
      "/home/addeche/Documents/Projet_Simplon/Brief_Assur-Aimant/.venv/lib/python3.12/site-packages/sklearn/linear_model/_coordinate_descent.py:695: ConvergenceWarning: Objective did not converge. You might want to increase the number of iterations, check the scale of the features or consider increasing regularisation. Duality gap: 9.575e+07, tolerance: 1.346e+07\n",
      "  model = cd_fast.enet_coordinate_descent(\n",
      "/home/addeche/Documents/Projet_Simplon/Brief_Assur-Aimant/.venv/lib/python3.12/site-packages/sklearn/linear_model/_coordinate_descent.py:695: ConvergenceWarning: Objective did not converge. You might want to increase the number of iterations, check the scale of the features or consider increasing regularisation. Duality gap: 1.583e+08, tolerance: 1.346e+07\n",
      "  model = cd_fast.enet_coordinate_descent(\n",
      "/home/addeche/Documents/Projet_Simplon/Brief_Assur-Aimant/.venv/lib/python3.12/site-packages/sklearn/linear_model/_coordinate_descent.py:695: ConvergenceWarning: Objective did not converge. You might want to increase the number of iterations, check the scale of the features or consider increasing regularisation. Duality gap: 5.804e+07, tolerance: 1.269e+07\n",
      "  model = cd_fast.enet_coordinate_descent(\n"
     ]
    },
    {
     "name": "stdout",
     "output_type": "stream",
     "text": [
      "\n",
      "Meilleurs hyperparamètres pour Lasso : {'modèle__alpha': 10.0}\n",
      "Meilleur RMSE : 4813.2509\n",
      "\n",
      "Meilleurs hyperparamètres pour Ridge : {'modèle__alpha': 0.1}\n",
      "Meilleur RMSE : 5973.8916\n",
      "\n",
      "Meilleurs hyperparamètres pour ElasticNet : {'modèle__alpha': 0.1, 'modèle__l1_ratio': 0.8}\n",
      "Meilleur RMSE : 6064.1017\n"
     ]
    }
   ],
   "source": [
    "\n",
    "# GridSearchCV pour chaque modèle\n",
    "parametres = {\n",
    "    \"Lasso\": {\"modèle__alpha\": [0.1, 1.0, 10.0]},\n",
    "    \"Ridge\": {\"modèle__alpha\": [0.1, 1.0, 10.0]},\n",
    "    \"ElasticNet\": {\"modèle__alpha\": [0.1, 1.0, 10.0], \"modèle__l1_ratio\": [0.2, 0.5, 0.8]}\n",
    "}\n",
    "\n",
    "for nom, pipeline in modeles.items():\n",
    "    if nom in parametres:\n",
    "        grid = GridSearchCV(pipeline, parametres[nom], cv=5, scoring=\"neg_root_mean_squared_error\")\n",
    "        grid.fit(X_train, y_train)\n",
    "        print(f\"\\nMeilleurs hyperparamètres pour {nom} :\", grid.best_params_)\n",
    "        print(f\"Meilleur RMSE : {-grid.best_score_:.4f}\")"
   ]
  },
  {
   "cell_type": "code",
   "execution_count": 12,
   "metadata": {},
   "outputs": [],
   "source": [
    "import pickle\n",
    "with open(\"Lasso_pipeline.pkl\", \"wb\") as file:\n",
    "    pickle.dump(modeles[\"Lasso\"], file)"
   ]
  },
  {
   "cell_type": "code",
   "execution_count": 13,
   "metadata": {},
   "outputs": [],
   "source": [
    "with open(\"Lasso_pipeline.pkl\", \"rb\") as file:\n",
    "    loaded_model = pickle.load(file)\n"
   ]
  },
  {
   "cell_type": "code",
   "execution_count": 14,
   "metadata": {},
   "outputs": [
    {
     "data": {
      "text/plain": [
       "array([ 7369.98875212, 32914.40608101,  5408.57764916, ...,\n",
       "       12459.67645125,  6529.08045826,  5726.41589166], shape=(1128,))"
      ]
     },
     "execution_count": 14,
     "metadata": {},
     "output_type": "execute_result"
    }
   ],
   "source": [
    "loaded_model.predict(X_train)"
   ]
  }
 ],
 "metadata": {
  "kernelspec": {
   "display_name": ".venv",
   "language": "python",
   "name": "python3"
  },
  "language_info": {
   "codemirror_mode": {
    "name": "ipython",
    "version": 3
   },
   "file_extension": ".py",
   "mimetype": "text/x-python",
   "name": "python",
   "nbconvert_exporter": "python",
   "pygments_lexer": "ipython3",
   "version": "3.12.3"
  }
 },
 "nbformat": 4,
 "nbformat_minor": 2
}
