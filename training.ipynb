{
 "cells": [
  {
   "cell_type": "code",
   "execution_count": 1,
   "metadata": {},
   "outputs": [
    {
     "name": "stdout",
     "output_type": "stream",
     "text": [
      "   prenom                                   email date_naissance  \\\n",
      "0   Leila                       leila@example.com     23/01/1990   \n",
      "1  Samuel                  samuel_329@example.com     20/09/2001   \n",
      "2   Radia                choupipoune@supermail.eu  12 sept. 1984   \n",
      "3    Marc  marco23@example.com, mc23@supermail.eu     10/02/1978   \n",
      "4    Heri                 helloworld@supermail.eu     05/03/2008   \n",
      "5   Hanna                  hanna2019@supermail.eu     01/01/1970   \n",
      "6  samuël                  samuel_329@example.com            NaN   \n",
      "\n",
      "            pays taille  \n",
      "0         France  1.49m  \n",
      "1            NaN  1.67m  \n",
      "2  Côte d'ivoire  153cm  \n",
      "3         France  1.65m  \n",
      "4     Madagascar  1.34m  \n",
      "5             24  3.45m  \n",
      "6          Bénin  1.45m  \n"
     ]
    }
   ],
   "source": [
    "import pandas as pd\n",
    "import numpy as np\n",
    "import re \n",
    "\n",
    "data = pd.read_csv('personnes(1).csv')\n",
    "print(data)"
   ]
  },
  {
   "cell_type": "code",
   "execution_count": 2,
   "metadata": {},
   "outputs": [
    {
     "name": "stdout",
     "output_type": "stream",
     "text": [
      "prenom            0\n",
      "email             0\n",
      "date_naissance    1\n",
      "pays              1\n",
      "taille            0\n",
      "dtype: int64\n"
     ]
    }
   ],
   "source": [
    "print(data.isnull().sum())"
   ]
  },
  {
   "cell_type": "code",
   "execution_count": null,
   "metadata": {},
   "outputs": [
    {
     "data": {
      "text/html": [
       "<div>\n",
       "<style scoped>\n",
       "    .dataframe tbody tr th:only-of-type {\n",
       "        vertical-align: middle;\n",
       "    }\n",
       "\n",
       "    .dataframe tbody tr th {\n",
       "        vertical-align: top;\n",
       "    }\n",
       "\n",
       "    .dataframe thead th {\n",
       "        text-align: right;\n",
       "    }\n",
       "</style>\n",
       "<table border=\"1\" class=\"dataframe\">\n",
       "  <thead>\n",
       "    <tr style=\"text-align: right;\">\n",
       "      <th></th>\n",
       "      <th>prenom</th>\n",
       "      <th>email</th>\n",
       "      <th>date_naissance</th>\n",
       "      <th>pays</th>\n",
       "      <th>taille</th>\n",
       "    </tr>\n",
       "  </thead>\n",
       "  <tbody>\n",
       "    <tr>\n",
       "      <th>1</th>\n",
       "      <td>Samuel</td>\n",
       "      <td>samuel_329@example.com</td>\n",
       "      <td>20/09/2001</td>\n",
       "      <td>NaN</td>\n",
       "      <td>1.67m</td>\n",
       "    </tr>\n",
       "    <tr>\n",
       "      <th>6</th>\n",
       "      <td>samuël</td>\n",
       "      <td>samuel_329@example.com</td>\n",
       "      <td>NaN</td>\n",
       "      <td>Bénin</td>\n",
       "      <td>1.45m</td>\n",
       "    </tr>\n",
       "  </tbody>\n",
       "</table>\n",
       "</div>"
      ],
      "text/plain": [
       "   prenom                   email date_naissance   pays taille\n",
       "1  Samuel  samuel_329@example.com     20/09/2001    NaN  1.67m\n",
       "6  samuël  samuel_329@example.com            NaN  Bénin  1.45m"
      ]
     },
     "execution_count": 4,
     "metadata": {},
     "output_type": "execute_result"
    }
   ],
   "source": [
    "\n",
    "data.loc[data['email'].duplicated(keep=False),:]"
   ]
  },
  {
   "cell_type": "code",
   "execution_count": null,
   "metadata": {},
   "outputs": [
    {
     "ename": "NameError",
     "evalue": "name 'nouvelle_colonne' is not defined",
     "output_type": "error",
     "traceback": [
      "\u001b[0;31m---------------------------------------------------------------------------\u001b[0m",
      "\u001b[0;31mNameError\u001b[0m                                 Traceback (most recent call last)",
      "Cell \u001b[0;32mIn[6], line 1\u001b[0m\n\u001b[0;32m----> 1\u001b[0m data[\u001b[38;5;124m'\u001b[39m\u001b[38;5;124memail\u001b[39m\u001b[38;5;124m'\u001b[39m] \u001b[38;5;241m=\u001b[39m \u001b[43mnouvelle_colonne\u001b[49m\n",
      "\u001b[0;31mNameError\u001b[0m: name 'nouvelle_colonne' is not defined"
     ]
    }
   ],
   "source": [
    "data['nom_colonne'] = nouvelle_colonne"
   ]
  },
  {
   "cell_type": "code",
   "execution_count": 7,
   "metadata": {},
   "outputs": [
    {
     "ename": "SyntaxError",
     "evalue": "invalid syntax (178213073.py, line 1)",
     "output_type": "error",
     "traceback": [
      "\u001b[0;36m  Cell \u001b[0;32mIn[7], line 1\u001b[0;36m\u001b[0m\n\u001b[0;31m    mask = # condition à vérifier pour cibler spécifiquement certaines lignes\u001b[0m\n\u001b[0m           ^\u001b[0m\n\u001b[0;31mSyntaxError\u001b[0m\u001b[0;31m:\u001b[0m invalid syntax\n"
     ]
    }
   ],
   "source": [
    "mask = # condition à vérifier pour cibler spécifiquement certaines lignes\n",
    "data.loc[mask, 'ma_colonne'] = nouvelles_valeurs"
   ]
  },
  {
   "cell_type": "code",
   "execution_count": 8,
   "metadata": {},
   "outputs": [
    {
     "name": "stdout",
     "output_type": "stream",
     "text": [
      "    Position;Sexe;Temps;Dept;Temps_secondes;Age\n",
      "0                     1;M;00:32:23;76;1943;40.0\n",
      "1                     2;M;00:32:40;27;1960;34.0\n",
      "2                     3;M;00:33:15;76;1995;44.0\n",
      "3                     4;M;00:33:23;76;2003;46.0\n",
      "4                     5;M;00:33:29;76;2009;26.0\n",
      "..                                          ...\n",
      "335                 336;F;01:08:34;27;4114;41.0\n",
      "336                 337;F;01:08:36;27;4116;48.0\n",
      "337                 338;M;01:09:31;27;4171;24.0\n",
      "338                 339;F;01:09:31;27;4171;25.0\n",
      "339                 340;F;01:10:31;76;4231;41.0\n",
      "\n",
      "[340 rows x 1 columns]\n"
     ]
    }
   ],
   "source": [
    "data = pd.read_csv('course+-+Quiz+P2-V2.csv')\n",
    "print(data)"
   ]
  },
  {
   "cell_type": "code",
   "execution_count": 24,
   "metadata": {},
   "outputs": [
    {
     "name": "stdout",
     "output_type": "stream",
     "text": [
      "Aucun intrus trouvé.\n"
     ]
    }
   ],
   "source": [
    "import pandas as pd\n",
    "\n",
    "\n",
    "df = pd.DataFrame(data)\n",
    "\n",
    "# Liste des départements valides\n",
    "valid_departments = ['27', '76', '14']  # Remplacez par vos départements valides\n",
    "\n",
    "# Vérifier les intrus\n",
    "intruders = df[~df['Dept'].isin(valid_departments)]\n",
    "\n",
    "# Afficher les intrus s'il y en a\n",
    "if not intruders.empty:\n",
    "    print(\"Intrus trouvés :\")\n",
    "    print(intruders)\n",
    "else:\n",
    "    print(\"Aucun intrus trouvé.\")"
   ]
  }
 ],
 "metadata": {
  "kernelspec": {
   "display_name": ".venv",
   "language": "python",
   "name": "python3"
  },
  "language_info": {
   "codemirror_mode": {
    "name": "ipython",
    "version": 3
   },
   "file_extension": ".py",
   "mimetype": "text/x-python",
   "name": "python",
   "nbconvert_exporter": "python",
   "pygments_lexer": "ipython3",
   "version": "3.12.3"
  }
 },
 "nbformat": 4,
 "nbformat_minor": 2
}
